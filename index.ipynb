{
 "cells": [
  {
   "cell_type": "markdown",
   "metadata": {},
   "source": [
    "# Folium - Codealong\n",
    "\n",
    "## Introduction \n",
    "\n",
    "In this codealong, we'll take a look at how to create an interactive map using the Folium package. From there, we'll return to APIs in the final lab for the day where you'll make an interactive map from your requests to the API!\n",
    "\n",
    "## Objectives\n",
    "\n",
    "You will be able to: \n",
    "* Create maps with Folium"
   ]
  },
  {
   "cell_type": "markdown",
   "metadata": {},
   "source": [
    "## Creating a Basemap\n",
    "\n",
    "Here we'll take a look at creating a basemap over the London region!"
   ]
  },
  {
   "cell_type": "code",
   "execution_count": 2,
   "metadata": {
    "scrolled": false
   },
   "outputs": [
    {
     "data": {
      "text/html": [
       "<div style=\"width:100%;\"><div style=\"position:relative;width:100%;height:0;padding-bottom:60%;\"><iframe src=\"data:text/html;charset=utf-8;base64,PCFET0NUWVBFIGh0bWw+CjxoZWFkPiAgICAKICAgIDxtZXRhIGh0dHAtZXF1aXY9ImNvbnRlbnQtdHlwZSIgY29udGVudD0idGV4dC9odG1sOyBjaGFyc2V0PVVURi04IiAvPgogICAgPHNjcmlwdD5MX1BSRUZFUl9DQU5WQVM9ZmFsc2U7IExfTk9fVE9VQ0g9ZmFsc2U7IExfRElTQUJMRV8zRD1mYWxzZTs8L3NjcmlwdD4KICAgIDxzY3JpcHQgc3JjPSJodHRwczovL2Nkbi5qc2RlbGl2ci5uZXQvbnBtL2xlYWZsZXRAMS40LjAvZGlzdC9sZWFmbGV0LmpzIj48L3NjcmlwdD4KICAgIDxzY3JpcHQgc3JjPSJodHRwczovL2FqYXguZ29vZ2xlYXBpcy5jb20vYWpheC9saWJzL2pxdWVyeS8xLjExLjEvanF1ZXJ5Lm1pbi5qcyI+PC9zY3JpcHQ+CiAgICA8c2NyaXB0IHNyYz0iaHR0cHM6Ly9tYXhjZG4uYm9vdHN0cmFwY2RuLmNvbS9ib290c3RyYXAvMy4yLjAvanMvYm9vdHN0cmFwLm1pbi5qcyI+PC9zY3JpcHQ+CiAgICA8c2NyaXB0IHNyYz0iaHR0cHM6Ly9jZG5qcy5jbG91ZGZsYXJlLmNvbS9hamF4L2xpYnMvTGVhZmxldC5hd2Vzb21lLW1hcmtlcnMvMi4wLjIvbGVhZmxldC5hd2Vzb21lLW1hcmtlcnMuanMiPjwvc2NyaXB0PgogICAgPGxpbmsgcmVsPSJzdHlsZXNoZWV0IiBocmVmPSJodHRwczovL2Nkbi5qc2RlbGl2ci5uZXQvbnBtL2xlYWZsZXRAMS40LjAvZGlzdC9sZWFmbGV0LmNzcyIvPgogICAgPGxpbmsgcmVsPSJzdHlsZXNoZWV0IiBocmVmPSJodHRwczovL21heGNkbi5ib290c3RyYXBjZG4uY29tL2Jvb3RzdHJhcC8zLjIuMC9jc3MvYm9vdHN0cmFwLm1pbi5jc3MiLz4KICAgIDxsaW5rIHJlbD0ic3R5bGVzaGVldCIgaHJlZj0iaHR0cHM6Ly9tYXhjZG4uYm9vdHN0cmFwY2RuLmNvbS9ib290c3RyYXAvMy4yLjAvY3NzL2Jvb3RzdHJhcC10aGVtZS5taW4uY3NzIi8+CiAgICA8bGluayByZWw9InN0eWxlc2hlZXQiIGhyZWY9Imh0dHBzOi8vbWF4Y2RuLmJvb3RzdHJhcGNkbi5jb20vZm9udC1hd2Vzb21lLzQuNi4zL2Nzcy9mb250LWF3ZXNvbWUubWluLmNzcyIvPgogICAgPGxpbmsgcmVsPSJzdHlsZXNoZWV0IiBocmVmPSJodHRwczovL2NkbmpzLmNsb3VkZmxhcmUuY29tL2FqYXgvbGlicy9MZWFmbGV0LmF3ZXNvbWUtbWFya2Vycy8yLjAuMi9sZWFmbGV0LmF3ZXNvbWUtbWFya2Vycy5jc3MiLz4KICAgIDxsaW5rIHJlbD0ic3R5bGVzaGVldCIgaHJlZj0iaHR0cHM6Ly9yYXdjZG4uZ2l0aGFjay5jb20vcHl0aG9uLXZpc3VhbGl6YXRpb24vZm9saXVtL21hc3Rlci9mb2xpdW0vdGVtcGxhdGVzL2xlYWZsZXQuYXdlc29tZS5yb3RhdGUuY3NzIi8+CiAgICA8c3R5bGU+aHRtbCwgYm9keSB7d2lkdGg6IDEwMCU7aGVpZ2h0OiAxMDAlO21hcmdpbjogMDtwYWRkaW5nOiAwO308L3N0eWxlPgogICAgPHN0eWxlPiNtYXAge3Bvc2l0aW9uOmFic29sdXRlO3RvcDowO2JvdHRvbTowO3JpZ2h0OjA7bGVmdDowO308L3N0eWxlPgogICAgCiAgICA8bWV0YSBuYW1lPSJ2aWV3cG9ydCIgY29udGVudD0id2lkdGg9ZGV2aWNlLXdpZHRoLAogICAgICAgIGluaXRpYWwtc2NhbGU9MS4wLCBtYXhpbXVtLXNjYWxlPTEuMCwgdXNlci1zY2FsYWJsZT1ubyIgLz4KICAgIDxzdHlsZT4jbWFwXzhjNGUwNTMzZDc5MzQ0ZGE5OWE3Njk5Nzc2YjRhNTIwIHsKICAgICAgICBwb3NpdGlvbjogcmVsYXRpdmU7CiAgICAgICAgd2lkdGg6IDEwMC4wJTsKICAgICAgICBoZWlnaHQ6IDEwMC4wJTsKICAgICAgICBsZWZ0OiAwLjAlOwogICAgICAgIHRvcDogMC4wJTsKICAgICAgICB9CiAgICA8L3N0eWxlPgo8L2hlYWQ+Cjxib2R5PiAgICAKICAgIAogICAgPGRpdiBjbGFzcz0iZm9saXVtLW1hcCIgaWQ9Im1hcF84YzRlMDUzM2Q3OTM0NGRhOTlhNzY5OTc3NmI0YTUyMCIgPjwvZGl2Pgo8L2JvZHk+CjxzY3JpcHQ+ICAgIAogICAgCiAgICAKICAgICAgICB2YXIgYm91bmRzID0gbnVsbDsKICAgIAoKICAgIHZhciBtYXBfOGM0ZTA1MzNkNzkzNDRkYTk5YTc2OTk3NzZiNGE1MjAgPSBMLm1hcCgKICAgICAgICAnbWFwXzhjNGUwNTMzZDc5MzQ0ZGE5OWE3Njk5Nzc2YjRhNTIwJywgewogICAgICAgIGNlbnRlcjogWzUxLjUxLCAtMC4xNF0sCiAgICAgICAgem9vbTogMjAsCiAgICAgICAgbWF4Qm91bmRzOiBib3VuZHMsCiAgICAgICAgbGF5ZXJzOiBbXSwKICAgICAgICB3b3JsZENvcHlKdW1wOiBmYWxzZSwKICAgICAgICBjcnM6IEwuQ1JTLkVQU0czODU3LAogICAgICAgIHpvb21Db250cm9sOiB0cnVlLAogICAgICAgIH0pOwoKCiAgICAKICAgIHZhciB0aWxlX2xheWVyX2RjZThjOWUyZTU5NDQwMGI5ZTdjNjg5YzdhNzNjZTJjID0gTC50aWxlTGF5ZXIoCiAgICAgICAgJ2h0dHBzOi8ve3N9LnRpbGUub3BlbnN0cmVldG1hcC5vcmcve3p9L3t4fS97eX0ucG5nJywKICAgICAgICB7CiAgICAgICAgImF0dHJpYnV0aW9uIjogbnVsbCwKICAgICAgICAiZGV0ZWN0UmV0aW5hIjogZmFsc2UsCiAgICAgICAgIm1heE5hdGl2ZVpvb20iOiAxOCwKICAgICAgICAibWF4Wm9vbSI6IDE4LAogICAgICAgICJtaW5ab29tIjogMCwKICAgICAgICAibm9XcmFwIjogZmFsc2UsCiAgICAgICAgIm9wYWNpdHkiOiAxLAogICAgICAgICJzdWJkb21haW5zIjogImFiYyIsCiAgICAgICAgInRtcyI6IGZhbHNlCn0pLmFkZFRvKG1hcF84YzRlMDUzM2Q3OTM0NGRhOTlhNzY5OTc3NmI0YTUyMCk7Cjwvc2NyaXB0Pg==\" style=\"position:absolute;width:100%;height:100%;left:0;top:0;border:none !important;\" allowfullscreen webkitallowfullscreen mozallowfullscreen></iframe></div></div>"
      ],
      "text/plain": [
       "<folium.folium.Map at 0x7f6dc8ca53c8>"
      ]
     },
     "execution_count": 2,
     "metadata": {},
     "output_type": "execute_result"
    }
   ],
   "source": [
    "import folium\n",
    "\n",
    "lat = 51.51\n",
    "long = -0.14\n",
    "\n",
    "#Create a map of the area\n",
    "base_map = folium.Map([lat, long], zoom_start=20)\n",
    "base_map"
   ]
  },
  {
   "cell_type": "markdown",
   "metadata": {},
   "source": [
    "## Adding Markers to the Map\n",
    "\n",
    "Great! Now let's take a look at adding little markers to our map!\n",
    "\n",
    "**Note:** you may have to zoom out to see all of the markers!"
   ]
  },
  {
   "cell_type": "code",
   "execution_count": 3,
   "metadata": {},
   "outputs": [
    {
     "data": {
      "text/html": [
       "<div style=\"width:100%;\"><div style=\"position:relative;width:100%;height:0;padding-bottom:60%;\"><iframe src=\"data:text/html;charset=utf-8;base64,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\" style=\"position:absolute;width:100%;height:100%;left:0;top:0;border:none !important;\" allowfullscreen webkitallowfullscreen mozallowfullscreen></iframe></div></div>"
      ],
      "text/plain": [
       "<folium.folium.Map at 0x7f6dc8ca53c8>"
      ]
     },
     "execution_count": 3,
     "metadata": {},
     "output_type": "execute_result"
    }
   ],
   "source": [
    "import numpy as np\n",
    "\n",
    "#Generate some random locations to add to our map\n",
    "x = [lat + np.random.uniform(-.1,.1) for i in range(20)]\n",
    "y = [long + np.random.uniform(-.1,.1) for i in range(20)]\n",
    "points = list(zip(x, y))\n",
    "for p in points:\n",
    "    lat = p[0]\n",
    "    long = p[1]\n",
    "    marker = folium.Marker(location=[lat, long])\n",
    "    marker.add_to(base_map)\n",
    "base_map"
   ]
  },
  {
   "cell_type": "markdown",
   "metadata": {},
   "source": [
    "## Adding Pop-up Boxes to Our Markers\n",
    "\n",
    "Often we may wish to not only place markers on the map, but to create interactive pop-ups which display information to that location. To do this, we can add a popup to our markers when adding them to the map! "
   ]
  },
  {
   "cell_type": "code",
   "execution_count": null,
   "metadata": {},
   "outputs": [],
   "source": [
    "for p in points:\n",
    "    lat = p[0]\n",
    "    long = p[1]\n",
    "    popup_text = \"Lattitude: {}, Longitude: {}\".format(lat,long)\n",
    "    popup = folium.Popup(popup_text, parse_html=True)\n",
    "    marker = folium.Marker(location=[lat, long], popup=popup)\n",
    "    marker.add_to(base_map)\n",
    "base_map"
   ]
  },
  {
   "cell_type": "markdown",
   "metadata": {},
   "source": [
    "Now, if you click on the map markers, you should see a little information box pop up!"
   ]
  },
  {
   "cell_type": "markdown",
   "metadata": {},
   "source": [
    "## Summary \n",
    "\n",
    "In this codealong, we learned how to use Folium to create some cool interactive maps with only a few lines of python code! In the next lab, you'll synthesize your skills for the day together and create an interactive visualization map for data you retrieve from the Yelp API!"
   ]
  }
 ],
 "metadata": {
  "kernelspec": {
   "display_name": "Python 3",
   "language": "python",
   "name": "python3"
  },
  "language_info": {
   "codemirror_mode": {
    "name": "ipython",
    "version": 3
   },
   "file_extension": ".py",
   "mimetype": "text/x-python",
   "name": "python",
   "nbconvert_exporter": "python",
   "pygments_lexer": "ipython3",
   "version": "3.6.6"
  }
 },
 "nbformat": 4,
 "nbformat_minor": 2
}
